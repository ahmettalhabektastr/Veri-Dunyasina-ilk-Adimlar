{
 "cells": [
  {
   "cell_type": "markdown",
   "id": "7d0b9c91",
   "metadata": {
    "papermill": {
     "duration": 0.006138,
     "end_time": "2023-01-14T06:25:15.033941",
     "exception": false,
     "start_time": "2023-01-14T06:25:15.027803",
     "status": "completed"
    },
    "tags": []
   },
   "source": [
    "# Veri Dünyasına İlk Adımlar!"
   ]
  },
  {
   "cell_type": "markdown",
   "id": "54e55709",
   "metadata": {
    "papermill": {
     "duration": 0.005104,
     "end_time": "2023-01-14T06:25:15.044469",
     "exception": false,
     "start_time": "2023-01-14T06:25:15.039365",
     "status": "completed"
    },
    "tags": []
   },
   "source": [
    "> **Dünya gittikçe büyüyor ve büyüyor.**\n",
    "\n",
    "Artık eski bildiğimiz dünyadan çok daha büyük bir dünyada yaşıyoruz. Hatta siz bunu okurken bile dünyamız daha çok büyüdü😅 Bütün hareketlerimiz \"**veri**\" üretiyor. **Dünya, dedelerimizin bildiği dünyadan çok farklı bir yer!!!**"
   ]
  },
  {
   "cell_type": "markdown",
   "id": "00bd9b31",
   "metadata": {
    "papermill": {
     "duration": 0.005018,
     "end_time": "2023-01-14T06:25:15.054949",
     "exception": false,
     "start_time": "2023-01-14T06:25:15.049931",
     "status": "completed"
    },
    "tags": []
   },
   "source": [
    "![](https://cdn-images-1.medium.com/max/1000/0*rjMfsTBQXa7e1Pvn.png)"
   ]
  },
  {
   "cell_type": "markdown",
   "id": "851c6d64",
   "metadata": {
    "papermill": {
     "duration": 0.004908,
     "end_time": "2023-01-14T06:25:15.065171",
     "exception": false,
     "start_time": "2023-01-14T06:25:15.060263",
     "status": "completed"
    },
    "tags": []
   },
   "source": [
    "# Peki bu gelişen ve büyüyen Veri Dünyasına nasıl dahil olabiliriz?"
   ]
  },
  {
   "cell_type": "markdown",
   "id": "534cc006",
   "metadata": {
    "papermill": {
     "duration": 0.004982,
     "end_time": "2023-01-14T06:25:15.075438",
     "exception": false,
     "start_time": "2023-01-14T06:25:15.070456",
     "status": "completed"
    },
    "tags": []
   },
   "source": [
    "Veriler çeşitli dosya tülerinde depolanır. Bu depolanan veriler topluluğuna **veri seti (dataset)** veya **veri kümesi** denir. **Veri setleri** genellikle **CSV** dosyaları, **Excel** dosyaları veya **SQL** dosyalarında depolanır."
   ]
  },
  {
   "cell_type": "markdown",
   "id": "d8042a2e",
   "metadata": {
    "papermill": {
     "duration": 0.004804,
     "end_time": "2023-01-14T06:25:15.085404",
     "exception": false,
     "start_time": "2023-01-14T06:25:15.080600",
     "status": "completed"
    },
    "tags": []
   },
   "source": [
    "![](https://cdn-images-1.medium.com/max/1000/0*oWGNwO8YeQKVQ8ca.png)\n",
    "\n",
    "\n",
    "![](https://cdn-images-1.medium.com/max/1000/0*gANOJafVSYVRTtAT.png)\n",
    "\n",
    "\n",
    "![](https://cdn-images-1.medium.com/max/1000/0*ya9MFAp7D-7lzBhU.png)\n"
   ]
  },
  {
   "cell_type": "markdown",
   "id": "1c5560c8",
   "metadata": {
    "papermill": {
     "duration": 0.004831,
     "end_time": "2023-01-14T06:25:15.095312",
     "exception": false,
     "start_time": "2023-01-14T06:25:15.090481",
     "status": "completed"
    },
    "tags": []
   },
   "source": [
    "Şimdi size veriler nasıl okunur onları göstericem."
   ]
  },
  {
   "cell_type": "markdown",
   "id": "d3eaeb91",
   "metadata": {
    "papermill": {
     "duration": 0.00621,
     "end_time": "2023-01-14T06:25:15.106587",
     "exception": false,
     "start_time": "2023-01-14T06:25:15.100377",
     "status": "completed"
    },
    "tags": []
   },
   "source": [
    "# CSV dosyaları ile başlayalım!"
   ]
  },
  {
   "cell_type": "markdown",
   "id": "a07cf8ae",
   "metadata": {
    "papermill": {
     "duration": 0.005092,
     "end_time": "2023-01-14T06:25:15.116915",
     "exception": false,
     "start_time": "2023-01-14T06:25:15.111823",
     "status": "completed"
    },
    "tags": []
   },
   "source": [
    "**CSV** demek \"*Comma-separated values*\" yani virgülle ayrılmış değerler demektir. Bir **CSV** dosyasını açtığınızda karşınıza virgülle ayrılmış veriler gelir.\n",
    "\n",
    "\n",
    "Bunun gibi:"
   ]
  },
  {
   "cell_type": "markdown",
   "id": "0867aba0",
   "metadata": {
    "papermill": {
     "duration": 0.005015,
     "end_time": "2023-01-14T06:25:15.127326",
     "exception": false,
     "start_time": "2023-01-14T06:25:15.122311",
     "status": "completed"
    },
    "tags": []
   },
   "source": [
    "![](https://cdn-images-1.medium.com/max/1000/0*4dfkFSkK1GgK-AQi.png)"
   ]
  },
  {
   "cell_type": "markdown",
   "id": "ef2fab4a",
   "metadata": {
    "papermill": {
     "duration": 0.005024,
     "end_time": "2023-01-14T06:25:15.137688",
     "exception": false,
     "start_time": "2023-01-14T06:25:15.132664",
     "status": "completed"
    },
    "tags": []
   },
   "source": [
    "## CSV dosyasını nasıl okucaz?"
   ]
  },
  {
   "cell_type": "markdown",
   "id": "90f13396",
   "metadata": {
    "papermill": {
     "duration": 0.005105,
     "end_time": "2023-01-14T06:25:15.148150",
     "exception": false,
     "start_time": "2023-01-14T06:25:15.143045",
     "status": "completed"
    },
    "tags": []
   },
   "source": [
    "Python'da veriler üzerinde operasyon ve işlem yapmamızı çok kolaylaştıran **pandas** kütüphanesini ***import*** etmemiz gerek."
   ]
  },
  {
   "cell_type": "code",
   "execution_count": 1,
   "id": "fe9836b5",
   "metadata": {
    "execution": {
     "iopub.execute_input": "2023-01-14T06:25:15.161705Z",
     "iopub.status.busy": "2023-01-14T06:25:15.160826Z",
     "iopub.status.idle": "2023-01-14T06:25:15.171227Z",
     "shell.execute_reply": "2023-01-14T06:25:15.170558Z"
    },
    "papermill": {
     "duration": 0.020038,
     "end_time": "2023-01-14T06:25:15.173637",
     "exception": false,
     "start_time": "2023-01-14T06:25:15.153599",
     "status": "completed"
    },
    "tags": []
   },
   "outputs": [],
   "source": [
    "import pandas as pd "
   ]
  },
  {
   "cell_type": "markdown",
   "id": "4738efcc",
   "metadata": {
    "papermill": {
     "duration": 0.005057,
     "end_time": "2023-01-14T06:25:15.184371",
     "exception": false,
     "start_time": "2023-01-14T06:25:15.179314",
     "status": "completed"
    },
    "tags": []
   },
   "source": [
    "***import pandas*** demek pandas kütüphanesini Python ortamınıza ekler. ***as pd*** eklediğimiz **pandas** kütüphanesini yalnızca ***pd*** yazarak çağırabilmemize yarar.\n",
    "\n",
    "\n",
    "### Hadi ilk verimizi okuyalım!\n",
    "\n",
    "\n",
    ">**Hazır mısın ?**"
   ]
  },
  {
   "cell_type": "code",
   "execution_count": 2,
   "id": "622a7ede",
   "metadata": {
    "execution": {
     "iopub.execute_input": "2023-01-14T06:25:15.196721Z",
     "iopub.status.busy": "2023-01-14T06:25:15.196144Z",
     "iopub.status.idle": "2023-01-14T06:25:15.214646Z",
     "shell.execute_reply": "2023-01-14T06:25:15.213269Z"
    },
    "papermill": {
     "duration": 0.027462,
     "end_time": "2023-01-14T06:25:15.217170",
     "exception": false,
     "start_time": "2023-01-14T06:25:15.189708",
     "status": "completed"
    },
    "tags": []
   },
   "outputs": [],
   "source": [
    "df=pd.read_csv(\"/kaggle/input/first-step-in-data-world-medium/yourfilename.csv\")\n",
    "# verimizi df isimli değişkene atadık."
   ]
  },
  {
   "cell_type": "markdown",
   "id": "237cfe88",
   "metadata": {
    "papermill": {
     "duration": 0.005138,
     "end_time": "2023-01-14T06:25:15.228045",
     "exception": false,
     "start_time": "2023-01-14T06:25:15.222907",
     "status": "completed"
    },
    "tags": []
   },
   "source": [
    "> **Tebrikler🎉**\n",
    "\n",
    "\n",
    "Artık **CSV** dosyasındaki verileri okuyabiliyorsun😊"
   ]
  },
  {
   "cell_type": "code",
   "execution_count": 3,
   "id": "8c4829f7",
   "metadata": {
    "execution": {
     "iopub.execute_input": "2023-01-14T06:25:15.241194Z",
     "iopub.status.busy": "2023-01-14T06:25:15.240821Z",
     "iopub.status.idle": "2023-01-14T06:25:15.260370Z",
     "shell.execute_reply": "2023-01-14T06:25:15.258501Z"
    },
    "papermill": {
     "duration": 0.028249,
     "end_time": "2023-01-14T06:25:15.262421",
     "exception": false,
     "start_time": "2023-01-14T06:25:15.234172",
     "status": "completed"
    },
    "tags": []
   },
   "outputs": [
    {
     "data": {
      "text/html": [
       "<div>\n",
       "<style scoped>\n",
       "    .dataframe tbody tr th:only-of-type {\n",
       "        vertical-align: middle;\n",
       "    }\n",
       "\n",
       "    .dataframe tbody tr th {\n",
       "        vertical-align: top;\n",
       "    }\n",
       "\n",
       "    .dataframe thead th {\n",
       "        text-align: right;\n",
       "    }\n",
       "</style>\n",
       "<table border=\"1\" class=\"dataframe\">\n",
       "  <thead>\n",
       "    <tr style=\"text-align: right;\">\n",
       "      <th></th>\n",
       "      <th>name</th>\n",
       "      <th>age</th>\n",
       "      <th>pet</th>\n",
       "    </tr>\n",
       "  </thead>\n",
       "  <tbody>\n",
       "    <tr>\n",
       "      <th>0</th>\n",
       "      <td>Bob</td>\n",
       "      <td>20</td>\n",
       "      <td>cat</td>\n",
       "    </tr>\n",
       "    <tr>\n",
       "      <th>1</th>\n",
       "      <td>Jen</td>\n",
       "      <td>30</td>\n",
       "      <td>dog</td>\n",
       "    </tr>\n",
       "    <tr>\n",
       "      <th>2</th>\n",
       "      <td>Tim</td>\n",
       "      <td>40</td>\n",
       "      <td>bird</td>\n",
       "    </tr>\n",
       "  </tbody>\n",
       "</table>\n",
       "</div>"
      ],
      "text/plain": [
       "  name  age   pet\n",
       "0  Bob   20   cat\n",
       "1  Jen   30   dog\n",
       "2  Tim   40  bird"
      ]
     },
     "execution_count": 3,
     "metadata": {},
     "output_type": "execute_result"
    }
   ],
   "source": [
    "df"
   ]
  },
  {
   "cell_type": "markdown",
   "id": "98fb934d",
   "metadata": {
    "papermill": {
     "duration": 0.005645,
     "end_time": "2023-01-14T06:25:15.274970",
     "exception": false,
     "start_time": "2023-01-14T06:25:15.269325",
     "status": "completed"
    },
    "tags": []
   },
   "source": [
    "# Nasıl Excel dosyalarından verileri okuyabiliriz?"
   ]
  },
  {
   "cell_type": "markdown",
   "id": "fb9a8952",
   "metadata": {
    "papermill": {
     "duration": 0.005353,
     "end_time": "2023-01-14T06:25:15.286057",
     "exception": false,
     "start_time": "2023-01-14T06:25:15.280704",
     "status": "completed"
    },
    "tags": []
   },
   "source": [
    "Yeniden **pandas** kütüphanesini kullanıcaz.\n",
    "\n",
    "\n",
    "Pandas kütüphanemizi önceden import ettiğimizden bi daha import etmemize gerek yok."
   ]
  },
  {
   "cell_type": "code",
   "execution_count": 4,
   "id": "a668eab7",
   "metadata": {
    "execution": {
     "iopub.execute_input": "2023-01-14T06:25:15.299661Z",
     "iopub.status.busy": "2023-01-14T06:25:15.298712Z",
     "iopub.status.idle": "2023-01-14T06:25:15.303920Z",
     "shell.execute_reply": "2023-01-14T06:25:15.302568Z"
    },
    "papermill": {
     "duration": 0.014001,
     "end_time": "2023-01-14T06:25:15.305827",
     "exception": false,
     "start_time": "2023-01-14T06:25:15.291826",
     "status": "completed"
    },
    "tags": []
   },
   "outputs": [],
   "source": [
    "import pandas as pd"
   ]
  },
  {
   "cell_type": "markdown",
   "id": "c0d5e524",
   "metadata": {
    "papermill": {
     "duration": 0.005195,
     "end_time": "2023-01-14T06:25:15.316669",
     "exception": false,
     "start_time": "2023-01-14T06:25:15.311474",
     "status": "completed"
    },
    "tags": []
   },
   "source": [
    "Verimizi şu şekilde excel dosyalarından okuyoruz:"
   ]
  },
  {
   "cell_type": "code",
   "execution_count": 5,
   "id": "3757b319",
   "metadata": {
    "execution": {
     "iopub.execute_input": "2023-01-14T06:25:15.329609Z",
     "iopub.status.busy": "2023-01-14T06:25:15.328763Z",
     "iopub.status.idle": "2023-01-14T06:25:15.690317Z",
     "shell.execute_reply": "2023-01-14T06:25:15.689364Z"
    },
    "papermill": {
     "duration": 0.370632,
     "end_time": "2023-01-14T06:25:15.692772",
     "exception": false,
     "start_time": "2023-01-14T06:25:15.322140",
     "status": "completed"
    },
    "tags": []
   },
   "outputs": [
    {
     "name": "stderr",
     "output_type": "stream",
     "text": [
      "/opt/conda/lib/python3.7/site-packages/openpyxl/worksheet/_reader.py:312: UserWarning: Unknown extension is not supported and will be removed\n",
      "  warn(msg)\n"
     ]
    }
   ],
   "source": [
    "data=pd.read_excel('/kaggle/input/first-step-in-data-world-medium/test_pandas.xlsm','Sheet1')"
   ]
  },
  {
   "cell_type": "markdown",
   "id": "74e8f126",
   "metadata": {
    "papermill": {
     "duration": 0.005543,
     "end_time": "2023-01-14T06:25:15.704447",
     "exception": false,
     "start_time": "2023-01-14T06:25:15.698904",
     "status": "completed"
    },
    "tags": []
   },
   "source": [
    "Parantezden sonra ilk dosya adı sonra sayfa ismi yazılır."
   ]
  },
  {
   "cell_type": "code",
   "execution_count": 6,
   "id": "2b14176d",
   "metadata": {
    "execution": {
     "iopub.execute_input": "2023-01-14T06:25:15.718796Z",
     "iopub.status.busy": "2023-01-14T06:25:15.718210Z",
     "iopub.status.idle": "2023-01-14T06:25:15.728645Z",
     "shell.execute_reply": "2023-01-14T06:25:15.727708Z"
    },
    "papermill": {
     "duration": 0.020003,
     "end_time": "2023-01-14T06:25:15.730451",
     "exception": false,
     "start_time": "2023-01-14T06:25:15.710448",
     "status": "completed"
    },
    "tags": []
   },
   "outputs": [
    {
     "data": {
      "text/html": [
       "<div>\n",
       "<style scoped>\n",
       "    .dataframe tbody tr th:only-of-type {\n",
       "        vertical-align: middle;\n",
       "    }\n",
       "\n",
       "    .dataframe tbody tr th {\n",
       "        vertical-align: top;\n",
       "    }\n",
       "\n",
       "    .dataframe thead th {\n",
       "        text-align: right;\n",
       "    }\n",
       "</style>\n",
       "<table border=\"1\" class=\"dataframe\">\n",
       "  <thead>\n",
       "    <tr style=\"text-align: right;\">\n",
       "      <th></th>\n",
       "      <th>Column A</th>\n",
       "      <th>Column B</th>\n",
       "      <th>Column C</th>\n",
       "    </tr>\n",
       "  </thead>\n",
       "  <tbody>\n",
       "    <tr>\n",
       "      <th>0</th>\n",
       "      <td>1</td>\n",
       "      <td>cat</td>\n",
       "      <td>1.1</td>\n",
       "    </tr>\n",
       "    <tr>\n",
       "      <th>1</th>\n",
       "      <td>2</td>\n",
       "      <td>dog</td>\n",
       "      <td>2.2</td>\n",
       "    </tr>\n",
       "    <tr>\n",
       "      <th>2</th>\n",
       "      <td>3</td>\n",
       "      <td>bird</td>\n",
       "      <td>3.3</td>\n",
       "    </tr>\n",
       "  </tbody>\n",
       "</table>\n",
       "</div>"
      ],
      "text/plain": [
       "   Column A Column B  Column C\n",
       "0         1      cat       1.1\n",
       "1         2      dog       2.2\n",
       "2         3     bird       3.3"
      ]
     },
     "execution_count": 6,
     "metadata": {},
     "output_type": "execute_result"
    }
   ],
   "source": [
    "data"
   ]
  },
  {
   "cell_type": "markdown",
   "id": "b2600f7e",
   "metadata": {
    "papermill": {
     "duration": 0.00573,
     "end_time": "2023-01-14T06:25:15.742335",
     "exception": false,
     "start_time": "2023-01-14T06:25:15.736605",
     "status": "completed"
    },
    "tags": []
   },
   "source": [
    "Sizlerinde gördügü üzere, **Excel** dosyasından veriyi çekebildik.\n",
    "\n",
    "\n",
    "> **Tebrik ederim🎉**\n",
    "\n",
    "\n",
    "**Excel** dosyalarından veri okumayı da öğrendiniz.\n",
    "# SQL dosyalarından nasıl veri çekilir?\n",
    "Burada bölümde 2 tane kütüphane kullanıcaz: **pandas** ve **sqlite3**"
   ]
  },
  {
   "cell_type": "code",
   "execution_count": 7,
   "id": "ee357d81",
   "metadata": {
    "execution": {
     "iopub.execute_input": "2023-01-14T06:25:15.756147Z",
     "iopub.status.busy": "2023-01-14T06:25:15.755759Z",
     "iopub.status.idle": "2023-01-14T06:25:15.760935Z",
     "shell.execute_reply": "2023-01-14T06:25:15.759577Z"
    },
    "papermill": {
     "duration": 0.014445,
     "end_time": "2023-01-14T06:25:15.762926",
     "exception": false,
     "start_time": "2023-01-14T06:25:15.748481",
     "status": "completed"
    },
    "tags": []
   },
   "outputs": [],
   "source": [
    "import pandas as pd\n",
    "import sqlite3"
   ]
  },
  {
   "cell_type": "markdown",
   "id": "5cffd554",
   "metadata": {
    "papermill": {
     "duration": 0.005885,
     "end_time": "2023-01-14T06:25:15.774934",
     "exception": false,
     "start_time": "2023-01-14T06:25:15.769049",
     "status": "completed"
    },
    "tags": []
   },
   "source": [
    "Sonra **Database**'e bağlanmamız gerek:"
   ]
  },
  {
   "cell_type": "code",
   "execution_count": 8,
   "id": "5e2fe556",
   "metadata": {
    "execution": {
     "iopub.execute_input": "2023-01-14T06:25:15.789162Z",
     "iopub.status.busy": "2023-01-14T06:25:15.788811Z",
     "iopub.status.idle": "2023-01-14T06:25:15.796586Z",
     "shell.execute_reply": "2023-01-14T06:25:15.795729Z"
    },
    "papermill": {
     "duration": 0.017323,
     "end_time": "2023-01-14T06:25:15.798771",
     "exception": false,
     "start_time": "2023-01-14T06:25:15.781448",
     "status": "completed"
    },
    "tags": []
   },
   "outputs": [],
   "source": [
    "conn=sqlite3.connect('/kaggle/input/first-step-in-data-world-medium/test_pandas.db')"
   ]
  },
  {
   "cell_type": "markdown",
   "id": "5fde3295",
   "metadata": {
    "papermill": {
     "duration": 0.006055,
     "end_time": "2023-01-14T06:25:15.811172",
     "exception": false,
     "start_time": "2023-01-14T06:25:15.805117",
     "status": "completed"
    },
    "tags": []
   },
   "source": [
    "Hadi veriyi çekelim:"
   ]
  },
  {
   "cell_type": "code",
   "execution_count": 9,
   "id": "7ffb712c",
   "metadata": {
    "execution": {
     "iopub.execute_input": "2023-01-14T06:25:15.825452Z",
     "iopub.status.busy": "2023-01-14T06:25:15.825057Z",
     "iopub.status.idle": "2023-01-14T06:25:15.839370Z",
     "shell.execute_reply": "2023-01-14T06:25:15.838582Z"
    },
    "papermill": {
     "duration": 0.02399,
     "end_time": "2023-01-14T06:25:15.841609",
     "exception": false,
     "start_time": "2023-01-14T06:25:15.817619",
     "status": "completed"
    },
    "tags": []
   },
   "outputs": [],
   "source": [
    "sql_query=\"SELECT*FROM test\"\n",
    "data=pd.read_sql(sql_query,conn)"
   ]
  },
  {
   "cell_type": "code",
   "execution_count": 10,
   "id": "29c9aa81",
   "metadata": {
    "execution": {
     "iopub.execute_input": "2023-01-14T06:25:15.855849Z",
     "iopub.status.busy": "2023-01-14T06:25:15.855469Z",
     "iopub.status.idle": "2023-01-14T06:25:15.866285Z",
     "shell.execute_reply": "2023-01-14T06:25:15.864765Z"
    },
    "papermill": {
     "duration": 0.020754,
     "end_time": "2023-01-14T06:25:15.868656",
     "exception": false,
     "start_time": "2023-01-14T06:25:15.847902",
     "status": "completed"
    },
    "tags": []
   },
   "outputs": [
    {
     "data": {
      "text/html": [
       "<div>\n",
       "<style scoped>\n",
       "    .dataframe tbody tr th:only-of-type {\n",
       "        vertical-align: middle;\n",
       "    }\n",
       "\n",
       "    .dataframe tbody tr th {\n",
       "        vertical-align: top;\n",
       "    }\n",
       "\n",
       "    .dataframe thead th {\n",
       "        text-align: right;\n",
       "    }\n",
       "</style>\n",
       "<table border=\"1\" class=\"dataframe\">\n",
       "  <thead>\n",
       "    <tr style=\"text-align: right;\">\n",
       "      <th></th>\n",
       "      <th>id</th>\n",
       "      <th>city</th>\n",
       "      <th>mascot</th>\n",
       "    </tr>\n",
       "  </thead>\n",
       "  <tbody>\n",
       "    <tr>\n",
       "      <th>0</th>\n",
       "      <td>1</td>\n",
       "      <td>San Francisco</td>\n",
       "      <td>49ers</td>\n",
       "    </tr>\n",
       "    <tr>\n",
       "      <th>1</th>\n",
       "      <td>2</td>\n",
       "      <td>Oakland</td>\n",
       "      <td>Raiders</td>\n",
       "    </tr>\n",
       "    <tr>\n",
       "      <th>2</th>\n",
       "      <td>3</td>\n",
       "      <td>Seattle</td>\n",
       "      <td>Seahawks</td>\n",
       "    </tr>\n",
       "    <tr>\n",
       "      <th>3</th>\n",
       "      <td>4</td>\n",
       "      <td>Chicago</td>\n",
       "      <td>Bears</td>\n",
       "    </tr>\n",
       "    <tr>\n",
       "      <th>4</th>\n",
       "      <td>5</td>\n",
       "      <td>NYC</td>\n",
       "      <td>Jets</td>\n",
       "    </tr>\n",
       "    <tr>\n",
       "      <th>5</th>\n",
       "      <td>6</td>\n",
       "      <td>LA</td>\n",
       "      <td>Rams</td>\n",
       "    </tr>\n",
       "    <tr>\n",
       "      <th>6</th>\n",
       "      <td>7</td>\n",
       "      <td>ANA</td>\n",
       "      <td>Chargers</td>\n",
       "    </tr>\n",
       "    <tr>\n",
       "      <th>7</th>\n",
       "      <td>6</td>\n",
       "      <td>LA</td>\n",
       "      <td>Rams</td>\n",
       "    </tr>\n",
       "    <tr>\n",
       "      <th>8</th>\n",
       "      <td>7</td>\n",
       "      <td>ANA</td>\n",
       "      <td>Chargers</td>\n",
       "    </tr>\n",
       "    <tr>\n",
       "      <th>9</th>\n",
       "      <td>6</td>\n",
       "      <td>LA</td>\n",
       "      <td>Rams</td>\n",
       "    </tr>\n",
       "    <tr>\n",
       "      <th>10</th>\n",
       "      <td>7</td>\n",
       "      <td>ANA</td>\n",
       "      <td>Chargers</td>\n",
       "    </tr>\n",
       "    <tr>\n",
       "      <th>11</th>\n",
       "      <td>6</td>\n",
       "      <td>LA</td>\n",
       "      <td>Rams</td>\n",
       "    </tr>\n",
       "    <tr>\n",
       "      <th>12</th>\n",
       "      <td>7</td>\n",
       "      <td>ANA</td>\n",
       "      <td>Chargers</td>\n",
       "    </tr>\n",
       "  </tbody>\n",
       "</table>\n",
       "</div>"
      ],
      "text/plain": [
       "    id           city    mascot\n",
       "0    1  San Francisco     49ers\n",
       "1    2        Oakland   Raiders\n",
       "2    3        Seattle  Seahawks\n",
       "3    4        Chicago     Bears\n",
       "4    5            NYC      Jets\n",
       "5    6             LA      Rams\n",
       "6    7            ANA  Chargers\n",
       "7    6             LA      Rams\n",
       "8    7            ANA  Chargers\n",
       "9    6             LA      Rams\n",
       "10   7            ANA  Chargers\n",
       "11   6             LA      Rams\n",
       "12   7            ANA  Chargers"
      ]
     },
     "execution_count": 10,
     "metadata": {},
     "output_type": "execute_result"
    }
   ],
   "source": [
    "data"
   ]
  },
  {
   "cell_type": "markdown",
   "id": "23547f07",
   "metadata": {
    "papermill": {
     "duration": 0.006012,
     "end_time": "2023-01-14T06:25:15.881386",
     "exception": false,
     "start_time": "2023-01-14T06:25:15.875374",
     "status": "completed"
    },
    "tags": []
   },
   "source": [
    "**SQL** dosyasından veri çekmeyi başardık.\n",
    "\n",
    "\n",
    "> **Tebrik ederim 🎉**\n",
    "\n",
    "\n",
    "---\n",
    "\n",
    "\n",
    "> ## Veri Dünyasında attığınız bu adımlar;\n",
    "> ## Sizin için küçük ama insanlık için büyük bir adım!\n",
    "\n",
    "\n",
    "![](https://cdn-images-1.medium.com/max/1000/0*cHuAR-hpBcBctT9P)"
   ]
  },
  {
   "cell_type": "markdown",
   "id": "477cf250",
   "metadata": {
    "papermill": {
     "duration": 0.006041,
     "end_time": "2023-01-14T06:25:15.893616",
     "exception": false,
     "start_time": "2023-01-14T06:25:15.887575",
     "status": "completed"
    },
    "tags": []
   },
   "source": [
    "---\n",
    "Bu yazı ile beraber sizler de Veri Dünyasına girmiş bulunmaktasınız.\n",
    "- **CSV** dosyasından veri çekmeyi\n",
    "- **Excel** dosyasından veri çekmeyi\n",
    "- **SQL** database'inden veri çekmeyi\n",
    "öğrendiniz.\n",
    "\n",
    "\n",
    "Peki bundan sonra napıcaz dediğinizi duyar gibiyim.\n",
    "## BEKLEMEDE KALIN!\n",
    "\n",
    "\n",
    "## \"Yeni arkadaşımız EDA\" yazımız yakında gelicek!\n",
    "\n",
    "---\n",
    "\n",
    "# Ahmet Talha Bektaş\n",
    "> 📧 [E-mail Hesabım](mailto:atalhabektas@gmail.com)\n",
    "\n",
    "> 🔗 [LinkedIn Hesabım](https://www.linkedin.com/in/ahmet-talha-bekta%C5%9F-056844216)\n",
    "\n",
    "> 💻 [GitHub Hesabım](https://github.com/ahmettalhabektastr)\n",
    "\n",
    "> 👨‍💻 [Kaggle Hesabım](https://www.kaggle.com/ahmettalhabektastr)\n",
    "\n",
    "> 📋 [Medium Hesabım](https://medium.com/@ahmettalhabektas_tr)"
   ]
  }
 ],
 "metadata": {
  "kernelspec": {
   "display_name": "Python 3",
   "language": "python",
   "name": "python3"
  },
  "language_info": {
   "codemirror_mode": {
    "name": "ipython",
    "version": 3
   },
   "file_extension": ".py",
   "mimetype": "text/x-python",
   "name": "python",
   "nbconvert_exporter": "python",
   "pygments_lexer": "ipython3",
   "version": "3.7.12"
  },
  "papermill": {
   "default_parameters": {},
   "duration": 9.137457,
   "end_time": "2023-01-14T06:25:16.521006",
   "environment_variables": {},
   "exception": null,
   "input_path": "__notebook__.ipynb",
   "output_path": "__notebook__.ipynb",
   "parameters": {},
   "start_time": "2023-01-14T06:25:07.383549",
   "version": "2.3.4"
  }
 },
 "nbformat": 4,
 "nbformat_minor": 5
}
